{
 "cells": [
  {
   "cell_type": "code",
   "execution_count": 4,
   "metadata": {
    "collapsed": true
   },
   "outputs": [],
   "source": [
    "import glob, os, re"
   ]
  },
  {
   "cell_type": "code",
   "execution_count": 5,
   "metadata": {},
   "outputs": [
    {
     "name": "stdout",
     "output_type": "stream",
     "text": [
      "/Users/peerchristensen\n"
     ]
    },
    {
     "data": {
      "text/plain": [
       "['1957-Eisenhower.txt',\n",
       " '1881-Garfield.txt',\n",
       " '1905-Roosevelt.txt',\n",
       " '1985-Reagan.txt',\n",
       " '1913-Wilson.txt',\n",
       " '1793-Washington.txt',\n",
       " '1885-Cleveland.txt',\n",
       " '1789-Washington.txt',\n",
       " '1845-Polk.txt',\n",
       " '1925-Coolidge.txt',\n",
       " '1837-VanBuren.txt',\n",
       " '1941-Roosevelt.txt',\n",
       " '2001-Bush.txt',\n",
       " '1961-Kennedy.txt',\n",
       " '1909-Taft.txt',\n",
       " '1945-Roosevelt.txt',\n",
       " '1817-Monroe.txt',\n",
       " '1949-Truman.txt',\n",
       " '1953-Eisenhower.txt',\n",
       " '1841-Harrison.txt',\n",
       " '2017-Trump.txt',\n",
       " '1889-Harrison.txt',\n",
       " '1857-Buchanan.txt',\n",
       " '2009-Obama.txt',\n",
       " '1877-Hayes.txt',\n",
       " '1861-Lincoln.txt',\n",
       " '1973-Nixon.txt',\n",
       " '1977-Carter.txt',\n",
       " '1993-Clinton.txt',\n",
       " '1869-Grant.txt',\n",
       " '1981-Reagan.txt',\n",
       " '1937-Roosevelt.txt',\n",
       " '1917-Wilson.txt',\n",
       " '1849-Taylor.txt',\n",
       " '1933-Roosevelt.txt',\n",
       " '1809-Madison.txt',\n",
       " '2005-Bush.txt',\n",
       " '1873-Grant.txt',\n",
       " '1921-Harding.txt',\n",
       " '1829-Jackson.txt',\n",
       " '1969-Nixon.txt',\n",
       " '1805-Jefferson.txt',\n",
       " '2013-Obama.txt',\n",
       " '1801-Jefferson.txt',\n",
       " 'encoding.sh',\n",
       " '1901-McKinley.txt',\n",
       " '1853-Pierce.txt',\n",
       " '1813-Madison.txt',\n",
       " '1929-Hoover.txt',\n",
       " '1893-Cleveland.txt',\n",
       " '1989-Bush.txt',\n",
       " '1897-McKinley.txt',\n",
       " '1797-Adams.txt',\n",
       " '1833-Jackson.txt',\n",
       " '1965-Johnson.txt',\n",
       " '1997-Clinton.txt',\n",
       " '1821-Monroe.txt',\n",
       " '1825-Adams.txt',\n",
       " '1865-Lincoln.txt']"
      ]
     },
     "execution_count": 5,
     "metadata": {},
     "output_type": "execute_result"
    }
   ],
   "source": [
    "# path to working directory\n",
    "root = os.getcwd()\n",
    "\n",
    "print(root)# print(root) for Py3 because print has become a function\n",
    "os.listdir(root)\n",
    "\n",
    "# path to data directory\n",
    "dpath = os.path.join(root,\"Desktop\",\"INAUG\")\n",
    "os.listdir(dpath)"
   ]
  },
  {
   "cell_type": "code",
   "execution_count": 6,
   "metadata": {
    "collapsed": true
   },
   "outputs": [],
   "source": [
    "def read_txt(path):\n",
    "    fnames=sorted(glob.glob(os.path.join(path,\"*.txt\")))\n",
    "    data=[]\n",
    "    metadata=[]\n",
    "    for fname in fnames:\n",
    "        with open(fname, \"r\") as f:\n",
    "            data.append(f.read())\n",
    "        metadata.append(os.path.basename(fname).split(\".\")[0])\n",
    "    return data, metadata\n"
   ]
  },
  {
   "cell_type": "code",
   "execution_count": 7,
   "metadata": {},
   "outputs": [
    {
     "name": "stdout",
     "output_type": "stream",
     "text": [
      "We, the citizens of America, are now joined in a great national effort to rebuild our country and to restore its promise for all of our people.\n",
      "\n",
      "Together, we will determine the course of America and the world for years to come.\n",
      "\n",
      "We will face challenges. We will confront hardships. But we will get the job done.\n",
      "\n",
      "Every four years, we gather on these steps to carry out the orderly and peaceful transfer of power, and we are grateful to President Obama and First Lady Michelle Obama for their gracious aid throughout this transition. They have been magnificent.\n",
      "\n",
      "Today's ceremony, however, has very special meaning. Because today we are not merely transferring power from one Administration to another, or from one party to another - but we are transferring power from Washington, D.C. and giving it back to you, the American People.\n",
      "\n",
      "For too long, a small group in our nation's Capital has reaped the rewards of government while the people have borne the cost.\n",
      "\n",
      "Washington flourished - but the people did not share in its wealth.\n",
      "\n",
      "Politicians prospered - but the jobs left, and the factories closed.\n",
      "\n",
      "The establishment protected itself, but not the citizens of our country.\n",
      "\n",
      "Their victories have not been your victories; their triumphs have not been your triumphs; and while they celebrated in our nation's Capital, there was little to celebrate for struggling families all across our land.\n",
      "\n",
      "That all changes - starting right here, and right now, because this moment is your moment: it belongs to you.\n",
      "\n",
      "It belongs to everyone gathered here today and everyone watching all across America. \n",
      "\n",
      "This is your day. This is your celebration.\n",
      "\n",
      "And this, the United States of America, is your country.\n",
      "\n",
      "What truly matters is not which party controls our government, but whether our government is controlled by the people.\n",
      "\n",
      "January 20th 2017, will be remembered as the day the people became the rulers of this nation again. \n",
      "\n",
      "The forgotten men and women of our country will be forgotten no longer.\n",
      "\n",
      "Everyone is listening to you now.\n",
      "\n",
      "You came by the tens of millions to become part of a historic movement the likes of which the world has never seen before.\n",
      "\n",
      "At the center of this movement is a crucial conviction: that a nation exists to serve its citizens.\n",
      "\n",
      "Americans want great schools for their children, safe neighborhoods for their families, and good jobs for themselves.\n",
      "\n",
      "These are the just and reasonable demands of a righteous public.\n",
      "\n",
      "But for too many of our citizens, a different reality exists: Mothers and children trapped in poverty in our inner cities; rusted-out factories scattered like tombstones across the landscape of our nation; an education system, flush with cash, but which leaves our young and beautiful students deprived of knowledge; and the crime and gangs and drugs that have stolen too many lives and robbed our country of so much unrealized potential.\n",
      "\n",
      "This American carnage stops right here and stops right now.\n",
      "\n",
      "We are one nation - and their pain is our pain.  Their dreams are our dreams; and their success will be our success.  We share one heart, one home, and one glorious destiny.\n",
      "\n",
      "The oath of office I take today is an oath of allegiance to all Americans.\n",
      "\n",
      "For many decades, we've enriched foreign industry at the expense of American industry;\n",
      "\n",
      "Subsidized the armies of other countries while allowing for the very sad depletion of our military;\n",
      "\n",
      "We've defended other nation's borders while refusing to defend our own;\n",
      "\n",
      "And spent trillions of dollars overseas while America's infrastructure has fallen into disrepair and decay.\n",
      "\n",
      "We've made other countries rich while the wealth, strength, and confidence of our country has disappeared over the horizon.\n",
      "\n",
      "One by one, the factories shuttered and left our shores, with not even a thought about the millions upon millions of American workers left behind.\n",
      "\n",
      "The wealth of our middle class has been ripped from their homes and then redistributed across the entire world.\n",
      "\n",
      "But that is the past. And now we are looking only to the future.\n",
      "\n",
      "We assembled here today are issuing a new decree to be heard in every city, in every foreign capital, and in every hall of power.\n",
      "\n",
      "From this day forward, a new vision will govern our land.\n",
      "\n",
      "From this moment on, it's going to be America First.\n",
      "\n",
      "Every decision on trade, on taxes, on immigration, on foreign affairs, will be made to benefit American workers and American families.\n",
      "\n",
      "We must protect our borders from the ravages of other countries making our products, stealing our companies, and destroying our jobs.  Protection will lead to great prosperity and strength.\n",
      "\n",
      "I will fight for you with every breath in my body - and I will never, ever let you down.\n",
      "\n",
      "America will start winning again, winning like never before.\n",
      "\n",
      "We will bring back our jobs. We will bring back our borders.  We will bring back our wealth.  And we will bring back our dreams.\n",
      "\n",
      "We will build new roads, and highways, and bridges, and airports, and tunnels, and railways all across our wonderful nation.\n",
      "\n",
      "We will get our people off of welfare and back to work - rebuilding our country with American hands and American labor.\n",
      "\n",
      "We will follow two simple rules: Buy American and Hire American.\n",
      "\n",
      "We will seek friendship and goodwill with the nations of the world - but we do so with the understanding that it is the right of all nations to put their own interests first.\n",
      "\n",
      "We do not seek to impose our way of life on anyone, but rather to let it shine as an example for everyone to follow.\n",
      "\n",
      "We will reinforce old alliances and form new ones - and unite the civilized world against Radical Islamic Terrorism, which we will eradicate completely from the face of the Earth.\n",
      "\n",
      "At the bedrock of our politics will be a total allegiance to the United States of America, and through our loyalty to our country, we will rediscover our loyalty to each other.\n",
      "\n",
      "When you open your heart to patriotism, there is no room for prejudice.\n",
      "\n",
      "The Bible tells us, \"how good and pleasant it is when God's people live together in unity.\"\n",
      "\n",
      "We must speak our minds openly, debate our disagreements honestly, but always pursue solidarity.\n",
      "\n",
      "When America is united, America is totally unstoppable.\n",
      "\n",
      "There should be no fear - we are protected, and we will always be protected.\n",
      "\n",
      "We will be protected by the great men and women of our military and law enforcement and, most importantly, we are protected by God.\n",
      "\n",
      "Finally, we must think big and dream even bigger.\n",
      "\n",
      "In America, we understand that a nation is only living as long as it is striving.\n",
      "\n",
      "We will no longer accept politicians who are all talk and no action - constantly complaining but never doing anything about it.\n",
      "\n",
      "The time for empty talk is over.\n",
      "\n",
      "Now arrives the hour of action.\n",
      "\n",
      "Do not let anyone tell you it cannot be done.  No challenge can match the heart and fight and spirit of America.\n",
      "\n",
      "We will not fail. Our country will thrive and prosper again.\n",
      "\n",
      "We stand at the birth of a new millennium, ready to unlock the mysteries of space, to free the Earth from the miseries of disease, and to harness the energies, industries and technologies of tomorrow.\n",
      "\n",
      "A new national pride will stir our souls, lift our sights, and heal our divisions.\n",
      "\n",
      "It is time to remember that old wisdom our soldiers will never forget: that whether we are black or brown or white, we all bleed the same red blood of patriots, we all enjoy the same glorious freedoms, and we all salute the same great American Flag.\n",
      "\n",
      "And whether a child is born in the urban sprawl of Detroit or the windswept plains of Nebraska, they look up at the same night sky, they fill their heart with the same dreams, and they are infused with the breath of life by the same almighty Creator.\n",
      "\n",
      "So to all Americans, in every city near and far, small and large, from mountain to mountain, and from ocean to ocean, hear these words:\n",
      "\n",
      "You will never be ignored again.\n",
      "\n",
      "Your voice, your hopes, and your dreams, will define our American destiny. And your courage and goodness and love will forever guide us along the way.\n",
      "\n",
      "Together, We Will Make America Strong Again.\n",
      "\n",
      "We Will Make America Wealthy Again.\n",
      "\n",
      "We Will Make America Proud Again.\n",
      "\n",
      "We Will Make America Safe Again.\n",
      "\n",
      "And, Yes, Together, We Will Make America Great Again. Thank you, God Bless You, And God Bless America.\n",
      "\n"
     ]
    },
    {
     "ename": "AttributeError",
     "evalue": "'function' object has no attribute 'texts'",
     "output_type": "error",
     "traceback": [
      "\u001b[0;31m---------------------------------------------------------------------------\u001b[0m",
      "\u001b[0;31mAttributeError\u001b[0m                            Traceback (most recent call last)",
      "\u001b[0;32m<ipython-input-7-1ccc10952a53>\u001b[0m in \u001b[0;36m<module>\u001b[0;34m()\u001b[0m\n\u001b[1;32m      5\u001b[0m     \u001b[0;32mreturn\u001b[0m \u001b[0mre\u001b[0m\u001b[0;34m.\u001b[0m\u001b[0msub\u001b[0m\u001b[0;34m(\u001b[0m\u001b[0;34mr\"\\d\"\u001b[0m\u001b[0;34m,\u001b[0m\u001b[0;34m\"\"\u001b[0m\u001b[0;34m,\u001b[0m\u001b[0ms\u001b[0m\u001b[0;34m.\u001b[0m\u001b[0mlower\u001b[0m\u001b[0;34m(\u001b[0m\u001b[0;34m)\u001b[0m\u001b[0;34m)\u001b[0m\u001b[0;34m\u001b[0m\u001b[0m\n\u001b[1;32m      6\u001b[0m \u001b[0;34m\u001b[0m\u001b[0m\n\u001b[0;32m----> 7\u001b[0;31m \u001b[0mtexts\u001b[0m\u001b[0;34m=\u001b[0m\u001b[0mlist\u001b[0m\u001b[0;34m(\u001b[0m\u001b[0mmap\u001b[0m\u001b[0;34m(\u001b[0m\u001b[0mclean\u001b[0m\u001b[0;34m.\u001b[0m\u001b[0mtexts\u001b[0m\u001b[0;34m)\u001b[0m\u001b[0;34m)\u001b[0m\u001b[0;34m\u001b[0m\u001b[0m\n\u001b[0m",
      "\u001b[0;31mAttributeError\u001b[0m: 'function' object has no attribute 'texts'"
     ]
    }
   ],
   "source": [
    "texts, titles = read_txt(dpath)\n",
    "print(texts[-1])\n",
    "\n",
    "def clean(s):\n",
    "    return re.sub(r\"\\d\",\"\",s.lower())\n",
    "\n",
    "texts=list(map(clean.texts))\n"
   ]
  },
  {
   "cell_type": "code",
   "execution_count": null,
   "metadata": {
    "collapsed": true
   },
   "outputs": [],
   "source": [
    "from sklearn.feature_extraction.text import CountVectorizer\n",
    "from sklearn.decomposition import LatentDirichletAllocation\n",
    "from stop_words import get_stop_words\n",
    "stop_words = get_stop_words('danish')"
   ]
  },
  {
   "cell_type": "code",
   "execution_count": null,
   "metadata": {},
   "outputs": [],
   "source": [
    "vectorizer = CountVectorizer(max_df = 0.95, min_df = 0.01,\n",
    "                            max_features = 1000, stop_words =stop_words,\n",
    "                            encoding=\"ascii\",ngram_range=(1,1))\n",
    "X = vectorizer.fit_transform(texts)\n",
    "X.shape\n"
   ]
  },
  {
   "cell_type": "markdown",
   "metadata": {},
   "source": [
    "# Train model"
   ]
  },
  {
   "cell_type": "code",
   "execution_count": null,
   "metadata": {
    "collapsed": true
   },
   "outputs": [],
   "source": [
    "k=5\n",
    "fit1=LatentDirichletAllocation(n_topics=k,max_iter=100,\n",
    "                              random_state=373,\n",
    "                              learning_method=\"online\").fit(X)\n",
    "print(\"done\")"
   ]
  },
  {
   "cell_type": "markdown",
   "metadata": {},
   "source": [
    "# Explore"
   ]
  },
  {
   "cell_type": "code",
   "execution_count": null,
   "metadata": {
    "collapsed": true
   },
   "outputs": [],
   "source": [
    "def display_topics(model,feature_names,no_top_words=5):\n",
    "    for topic_idx, topic in enumerate(model.components_):\n",
    "        print(\"Topic {}\".format(topic_idx))\n",
    "        print(\" \".join([feature_names[i] for i in topic.argsort()[:-no_top_words-1:-1]]))\n",
    "                        \n",
    "vocab=vectorizer.get_feature_names()\n",
    "print(len(vocab))\n",
    "display_topics(fit1,vocab)"
   ]
  }
 ],
 "metadata": {
  "kernelspec": {
   "display_name": "Python 3",
   "language": "python",
   "name": "python3"
  },
  "language_info": {
   "codemirror_mode": {
    "name": "ipython",
    "version": 3
   },
   "file_extension": ".py",
   "mimetype": "text/x-python",
   "name": "python",
   "nbconvert_exporter": "python",
   "pygments_lexer": "ipython3",
   "version": "3.6.0"
  }
 },
 "nbformat": 4,
 "nbformat_minor": 2
}
